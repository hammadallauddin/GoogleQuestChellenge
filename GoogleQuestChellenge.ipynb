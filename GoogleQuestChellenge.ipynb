{
 "cells": [
  {
   "cell_type": "code",
   "execution_count": 122,
   "metadata": {},
   "outputs": [],
   "source": [
    "import warnings\n",
    "import numpy as np\n",
    "import pandas as pd\n",
    "from tqdm import tqdm\n",
    "from scipy import hstack\n",
    "from keras.layers import Dense\n",
    "from gensim.models import Word2Vec\n",
    "from keras.models import Sequential\n",
    "from sklearn.model_selection import train_test_split\n",
    "warnings.filterwarnings(\"ignore\")"
   ]
  },
  {
   "cell_type": "code",
   "execution_count": 123,
   "metadata": {},
   "outputs": [],
   "source": [
    "# Load data from csv file\n",
    "data = pd.read_csv('./data/train.csv')"
   ]
  },
  {
   "cell_type": "code",
   "execution_count": 124,
   "metadata": {},
   "outputs": [
    {
     "data": {
      "text/plain": [
       "Index(['qa_id', 'question_title', 'question_body', 'question_user_name',\n",
       "       'question_user_page', 'answer', 'answer_user_name', 'answer_user_page',\n",
       "       'url', 'category', 'host', 'question_asker_intent_understanding',\n",
       "       'question_body_critical', 'question_conversational',\n",
       "       'question_expect_short_answer', 'question_fact_seeking',\n",
       "       'question_has_commonly_accepted_answer',\n",
       "       'question_interestingness_others', 'question_interestingness_self',\n",
       "       'question_multi_intent', 'question_not_really_a_question',\n",
       "       'question_opinion_seeking', 'question_type_choice',\n",
       "       'question_type_compare', 'question_type_consequence',\n",
       "       'question_type_definition', 'question_type_entity',\n",
       "       'question_type_instructions', 'question_type_procedure',\n",
       "       'question_type_reason_explanation', 'question_type_spelling',\n",
       "       'question_well_written', 'answer_helpful',\n",
       "       'answer_level_of_information', 'answer_plausible', 'answer_relevance',\n",
       "       'answer_satisfaction', 'answer_type_instructions',\n",
       "       'answer_type_procedure', 'answer_type_reason_explanation',\n",
       "       'answer_well_written'],\n",
       "      dtype='object')"
      ]
     },
     "execution_count": 124,
     "metadata": {},
     "output_type": "execute_result"
    }
   ],
   "source": [
    "data.columns"
   ]
  },
  {
   "cell_type": "code",
   "execution_count": 125,
   "metadata": {},
   "outputs": [
    {
     "data": {
      "text/plain": [
       "qa_id                                    False\n",
       "question_title                           False\n",
       "question_body                            False\n",
       "question_user_name                       False\n",
       "question_user_page                       False\n",
       "answer                                   False\n",
       "answer_user_name                         False\n",
       "answer_user_page                         False\n",
       "url                                      False\n",
       "category                                 False\n",
       "host                                     False\n",
       "question_asker_intent_understanding      False\n",
       "question_body_critical                   False\n",
       "question_conversational                  False\n",
       "question_expect_short_answer             False\n",
       "question_fact_seeking                    False\n",
       "question_has_commonly_accepted_answer    False\n",
       "question_interestingness_others          False\n",
       "question_interestingness_self            False\n",
       "question_multi_intent                    False\n",
       "question_not_really_a_question           False\n",
       "question_opinion_seeking                 False\n",
       "question_type_choice                     False\n",
       "question_type_compare                    False\n",
       "question_type_consequence                False\n",
       "question_type_definition                 False\n",
       "question_type_entity                     False\n",
       "question_type_instructions               False\n",
       "question_type_procedure                  False\n",
       "question_type_reason_explanation         False\n",
       "question_type_spelling                   False\n",
       "question_well_written                    False\n",
       "answer_helpful                           False\n",
       "answer_level_of_information              False\n",
       "answer_plausible                         False\n",
       "answer_relevance                         False\n",
       "answer_satisfaction                      False\n",
       "answer_type_instructions                 False\n",
       "answer_type_procedure                    False\n",
       "answer_type_reason_explanation           False\n",
       "answer_well_written                      False\n",
       "dtype: bool"
      ]
     },
     "execution_count": 125,
     "metadata": {},
     "output_type": "execute_result"
    }
   ],
   "source": [
    "data.isna().any()"
   ]
  },
  {
   "cell_type": "code",
   "execution_count": 126,
   "metadata": {},
   "outputs": [],
   "source": [
    "target=['question_asker_intent_understanding','question_body_critical', 'question_conversational',\n",
    "       'question_expect_short_answer', 'question_fact_seeking','question_has_commonly_accepted_answer',\n",
    "       'question_interestingness_others', 'question_interestingness_self','question_multi_intent',\n",
    "       'question_not_really_a_question','question_opinion_seeking', 'question_type_choice',\n",
    "       'question_type_compare','question_type_consequence','question_type_definition', 'question_type_entity',\n",
    "       'question_type_instructions', 'question_type_procedure','question_type_reason_explanation',\n",
    "       'question_type_spelling','question_well_written',\n",
    "       'answer_helpful','answer_level_of_information', 'answer_plausible', 'answer_relevance',\n",
    "       'answer_satisfaction', 'answer_type_instructions','answer_type_procedure', 'answer_type_reason_explanation',\n",
    "       'answer_well_written']\n",
    "\n",
    "drop_cols=['qa_id','question_user_name','question_user_page','answer_user_name','answer_user_page','url']"
   ]
  },
  {
   "cell_type": "code",
   "execution_count": 127,
   "metadata": {},
   "outputs": [
    {
     "data": {
      "text/plain": [
       "Index(['answer', 'category', 'host', 'question_asker_intent_understanding',\n",
       "       'question_body_critical', 'question_conversational',\n",
       "       'question_expect_short_answer', 'question_fact_seeking',\n",
       "       'question_has_commonly_accepted_answer',\n",
       "       'question_interestingness_others', 'question_interestingness_self',\n",
       "       'question_multi_intent', 'question_not_really_a_question',\n",
       "       'question_opinion_seeking', 'question_type_choice',\n",
       "       'question_type_compare', 'question_type_consequence',\n",
       "       'question_type_definition', 'question_type_entity',\n",
       "       'question_type_instructions', 'question_type_procedure',\n",
       "       'question_type_reason_explanation', 'question_type_spelling',\n",
       "       'question_well_written', 'answer_helpful',\n",
       "       'answer_level_of_information', 'answer_plausible', 'answer_relevance',\n",
       "       'answer_satisfaction', 'answer_type_instructions',\n",
       "       'answer_type_procedure', 'answer_type_reason_explanation',\n",
       "       'answer_well_written', 'question'],\n",
       "      dtype='object')"
      ]
     },
     "execution_count": 127,
     "metadata": {},
     "output_type": "execute_result"
    }
   ],
   "source": [
    "data.drop(drop_cols,inplace=True,axis=1)\n",
    "data['question']=data['question_title']+data['question_body']\n",
    "data.drop(['question_title','question_body'],axis=1,inplace=True)\n",
    "data.columns"
   ]
  },
  {
   "cell_type": "code",
   "execution_count": 128,
   "metadata": {},
   "outputs": [],
   "source": [
    "data=data[['question','answer', 'category', 'host', 'question_asker_intent_understanding',\n",
    "       'question_body_critical', 'question_conversational',\n",
    "       'question_expect_short_answer', 'question_fact_seeking',\n",
    "       'question_has_commonly_accepted_answer',\n",
    "       'question_interestingness_others', 'question_interestingness_self',\n",
    "       'question_multi_intent', 'question_not_really_a_question',\n",
    "       'question_opinion_seeking', 'question_type_choice',\n",
    "       'question_type_compare', 'question_type_consequence',\n",
    "       'question_type_definition', 'question_type_entity',\n",
    "       'question_type_instructions', 'question_type_procedure',\n",
    "       'question_type_reason_explanation', 'question_type_spelling',\n",
    "       'question_well_written', 'answer_helpful',\n",
    "       'answer_level_of_information', 'answer_plausible', 'answer_relevance',\n",
    "       'answer_satisfaction', 'answer_type_instructions',\n",
    "       'answer_type_procedure', 'answer_type_reason_explanation',\n",
    "       'answer_well_written']]"
   ]
  },
  {
   "cell_type": "code",
   "execution_count": 129,
   "metadata": {},
   "outputs": [],
   "source": [
    "import re\n",
    "questions=[]\n",
    "answers=[]\n",
    "for sent in data['question']:\n",
    "    sent = re.sub('[^A-Za-z0-9]+', ' ', sent)\n",
    "    questions.append(sent.strip())\n",
    "for sent in data['answer']:\n",
    "    sent = re.sub('[^A-Za-z0-9]+', ' ', sent)\n",
    "    answers.append(sent.strip())"
   ]
  },
  {
   "cell_type": "code",
   "execution_count": 130,
   "metadata": {},
   "outputs": [
    {
     "data": {
      "text/html": [
       "<div>\n",
       "<style scoped>\n",
       "    .dataframe tbody tr th:only-of-type {\n",
       "        vertical-align: middle;\n",
       "    }\n",
       "\n",
       "    .dataframe tbody tr th {\n",
       "        vertical-align: top;\n",
       "    }\n",
       "\n",
       "    .dataframe thead th {\n",
       "        text-align: right;\n",
       "    }\n",
       "</style>\n",
       "<table border=\"1\" class=\"dataframe\">\n",
       "  <thead>\n",
       "    <tr style=\"text-align: right;\">\n",
       "      <th></th>\n",
       "      <th>question</th>\n",
       "      <th>answer</th>\n",
       "      <th>category</th>\n",
       "      <th>host</th>\n",
       "      <th>question_asker_intent_understanding</th>\n",
       "      <th>question_body_critical</th>\n",
       "      <th>question_conversational</th>\n",
       "      <th>question_expect_short_answer</th>\n",
       "      <th>question_fact_seeking</th>\n",
       "      <th>question_has_commonly_accepted_answer</th>\n",
       "      <th>...</th>\n",
       "      <th>answer_level_of_information</th>\n",
       "      <th>answer_plausible</th>\n",
       "      <th>answer_relevance</th>\n",
       "      <th>answer_satisfaction</th>\n",
       "      <th>answer_type_instructions</th>\n",
       "      <th>answer_type_procedure</th>\n",
       "      <th>answer_type_reason_explanation</th>\n",
       "      <th>answer_well_written</th>\n",
       "      <th>questions</th>\n",
       "      <th>answers</th>\n",
       "    </tr>\n",
       "  </thead>\n",
       "  <tbody>\n",
       "    <tr>\n",
       "      <th>0</th>\n",
       "      <td>What am I losing when using extension tubes in...</td>\n",
       "      <td>I just got extension tubes, so here's the skin...</td>\n",
       "      <td>LIFE_ARTS</td>\n",
       "      <td>photo.stackexchange.com</td>\n",
       "      <td>1.0</td>\n",
       "      <td>0.333333</td>\n",
       "      <td>0.0</td>\n",
       "      <td>0.0</td>\n",
       "      <td>0.0</td>\n",
       "      <td>0.0</td>\n",
       "      <td>...</td>\n",
       "      <td>0.666667</td>\n",
       "      <td>1.000000</td>\n",
       "      <td>1.000000</td>\n",
       "      <td>0.800000</td>\n",
       "      <td>1.0</td>\n",
       "      <td>0.0</td>\n",
       "      <td>0.000000</td>\n",
       "      <td>1.000000</td>\n",
       "      <td>What am I losing when using extension tubes in...</td>\n",
       "      <td>I just got extension tubes so here s the skinn...</td>\n",
       "    </tr>\n",
       "    <tr>\n",
       "      <th>1</th>\n",
       "      <td>What is the distinction between a city and a s...</td>\n",
       "      <td>It might be helpful to look into the definitio...</td>\n",
       "      <td>CULTURE</td>\n",
       "      <td>rpg.stackexchange.com</td>\n",
       "      <td>1.0</td>\n",
       "      <td>1.000000</td>\n",
       "      <td>0.0</td>\n",
       "      <td>0.5</td>\n",
       "      <td>1.0</td>\n",
       "      <td>1.0</td>\n",
       "      <td>...</td>\n",
       "      <td>0.555556</td>\n",
       "      <td>0.888889</td>\n",
       "      <td>0.888889</td>\n",
       "      <td>0.666667</td>\n",
       "      <td>0.0</td>\n",
       "      <td>0.0</td>\n",
       "      <td>0.666667</td>\n",
       "      <td>0.888889</td>\n",
       "      <td>What is the distinction between a city and a s...</td>\n",
       "      <td>It might be helpful to look into the definitio...</td>\n",
       "    </tr>\n",
       "  </tbody>\n",
       "</table>\n",
       "<p>2 rows × 36 columns</p>\n",
       "</div>"
      ],
      "text/plain": [
       "                                            question  \\\n",
       "0  What am I losing when using extension tubes in...   \n",
       "1  What is the distinction between a city and a s...   \n",
       "\n",
       "                                              answer   category  \\\n",
       "0  I just got extension tubes, so here's the skin...  LIFE_ARTS   \n",
       "1  It might be helpful to look into the definitio...    CULTURE   \n",
       "\n",
       "                      host  question_asker_intent_understanding  \\\n",
       "0  photo.stackexchange.com                                  1.0   \n",
       "1    rpg.stackexchange.com                                  1.0   \n",
       "\n",
       "   question_body_critical  question_conversational  \\\n",
       "0                0.333333                      0.0   \n",
       "1                1.000000                      0.0   \n",
       "\n",
       "   question_expect_short_answer  question_fact_seeking  \\\n",
       "0                           0.0                    0.0   \n",
       "1                           0.5                    1.0   \n",
       "\n",
       "   question_has_commonly_accepted_answer  ...  answer_level_of_information  \\\n",
       "0                                    0.0  ...                     0.666667   \n",
       "1                                    1.0  ...                     0.555556   \n",
       "\n",
       "   answer_plausible  answer_relevance  answer_satisfaction  \\\n",
       "0          1.000000          1.000000             0.800000   \n",
       "1          0.888889          0.888889             0.666667   \n",
       "\n",
       "   answer_type_instructions  answer_type_procedure  \\\n",
       "0                       1.0                    0.0   \n",
       "1                       0.0                    0.0   \n",
       "\n",
       "   answer_type_reason_explanation  answer_well_written  \\\n",
       "0                        0.000000             1.000000   \n",
       "1                        0.666667             0.888889   \n",
       "\n",
       "                                           questions  \\\n",
       "0  What am I losing when using extension tubes in...   \n",
       "1  What is the distinction between a city and a s...   \n",
       "\n",
       "                                             answers  \n",
       "0  I just got extension tubes so here s the skinn...  \n",
       "1  It might be helpful to look into the definitio...  \n",
       "\n",
       "[2 rows x 36 columns]"
      ]
     },
     "execution_count": 130,
     "metadata": {},
     "output_type": "execute_result"
    }
   ],
   "source": [
    "data['questions']=questions\n",
    "data['answers']=answers\n",
    "data.head(2)"
   ]
  },
  {
   "cell_type": "code",
   "execution_count": 131,
   "metadata": {},
   "outputs": [],
   "source": [
    "cols=['question','answer', 'category', 'host']"
   ]
  },
  {
   "cell_type": "code",
   "execution_count": 132,
   "metadata": {},
   "outputs": [
    {
     "data": {
      "text/plain": [
       "63"
      ]
     },
     "execution_count": 132,
     "metadata": {},
     "output_type": "execute_result"
    }
   ],
   "source": [
    "Y=data[target]\n",
    "data.drop(target,axis=1,inplace=True)\n",
    "X_train,X_test,y_train,y_test=train_test_split(data,Y,test_size=0.20)\n",
    "X_train,X_cv,y_train,y_cv=train_test_split(X_train,y_train,test_size=0.20)\n",
    "host_list=list(X_train['host'].value_counts().index)\n",
    "len(host_list)"
   ]
  },
  {
   "cell_type": "code",
   "execution_count": 133,
   "metadata": {},
   "outputs": [
    {
     "data": {
      "text/plain": [
       "5"
      ]
     },
     "execution_count": 133,
     "metadata": {},
     "output_type": "execute_result"
    }
   ],
   "source": [
    "train_host_encoded=[]\n",
    "for i in X_train['host']:\n",
    "    if i in host_list:\n",
    "        train_host_encoded.append(host_list.index(i))\n",
    "    else:\n",
    "        train_host_encoded.append(-1)\n",
    "        \n",
    "test_host_encoded=[]\n",
    "for i in X_test['host']:\n",
    "    if i in host_list:\n",
    "        test_host_encoded.append(host_list.index(i))\n",
    "    else:\n",
    "        test_host_encoded.append(-1)\n",
    "\n",
    "cv_host_encoded=[]\n",
    "for i in X_cv['host']:\n",
    "    if i in host_list:\n",
    "        cv_host_encoded.append(host_list.index(i))\n",
    "    else:\n",
    "        cv_host_encoded.append(-1)\n",
    "        \n",
    "cat_list=list(X_train['category'].value_counts().index)\n",
    "len(cat_list)"
   ]
  },
  {
   "cell_type": "code",
   "execution_count": 134,
   "metadata": {},
   "outputs": [],
   "source": [
    "train_cat_encoded=[]\n",
    "for i in X_train['category']:\n",
    "    if i in cat_list:\n",
    "        train_cat_encoded.append(cat_list.index(i))\n",
    "    else:\n",
    "        train_cat_encoded.append(-1)\n",
    "\n",
    "test_cat_encoded=[]\n",
    "for i in X_test['category']:\n",
    "    if i in cat_list:\n",
    "        test_cat_encoded.append(cat_list.index(i))\n",
    "    else:\n",
    "        test_cat_encoded.append(-1)\n",
    "\n",
    "cv_cat_encoded=[]\n",
    "for i in X_cv['category']:\n",
    "    if i in cat_list:\n",
    "        cv_cat_encoded.append(cat_list.index(i))\n",
    "    else:\n",
    "        cv_cat_encoded.append(-1)"
   ]
  },
  {
   "cell_type": "code",
   "execution_count": 135,
   "metadata": {},
   "outputs": [
    {
     "data": {
      "text/plain": [
       "12158"
      ]
     },
     "execution_count": 135,
     "metadata": {},
     "output_type": "execute_result"
    }
   ],
   "source": [
    "word_corpus=[]\n",
    "for sentence in data['question']:\n",
    "    sent=[]\n",
    "    for w in sentence.split():\n",
    "        sent.append(w)\n",
    "    word_corpus.append(sent)\n",
    "for sentence in data['answer']:\n",
    "    sent=[]\n",
    "    for w in sentence.split():\n",
    "        sent.append(w)\n",
    "    word_corpus.append(sent)\n",
    "\n",
    "len(word_corpus)"
   ]
  },
  {
   "cell_type": "code",
   "execution_count": 136,
   "metadata": {},
   "outputs": [],
   "source": [
    "w2vmodel=Word2Vec(word_corpus, min_count=4,size=300)"
   ]
  },
  {
   "cell_type": "code",
   "execution_count": 137,
   "metadata": {},
   "outputs": [
    {
     "name": "stderr",
     "output_type": "stream",
     "text": [
      "100%|██████████| 3890/3890 [00:07<00:00, 551.74it/s]"
     ]
    },
    {
     "name": "stdout",
     "output_type": "stream",
     "text": [
      "3890\n",
      "300\n",
      "<class 'list'>\n"
     ]
    },
    {
     "name": "stderr",
     "output_type": "stream",
     "text": [
      "\n"
     ]
    }
   ],
   "source": [
    "w2v_question_train = []\n",
    "for sentence in tqdm(X_train['question'].values):\n",
    "    vector = np.zeros(300)\n",
    "    for word in sentence.split():\n",
    "        if word in w2vmodel:\n",
    "            vector += w2vmodel[word]\n",
    "    w2v_question_train.append(vector)\n",
    "\n",
    "print(len(w2v_question_train))\n",
    "print(len(w2v_question_train[0]))\n",
    "print(type(w2v_question_train))"
   ]
  },
  {
   "cell_type": "code",
   "execution_count": 138,
   "metadata": {},
   "outputs": [
    {
     "name": "stderr",
     "output_type": "stream",
     "text": [
      "100%|██████████| 1216/1216 [00:02<00:00, 547.16it/s]"
     ]
    },
    {
     "name": "stdout",
     "output_type": "stream",
     "text": [
      "1216\n",
      "300\n",
      "<class 'list'>\n"
     ]
    },
    {
     "name": "stderr",
     "output_type": "stream",
     "text": [
      "\n"
     ]
    }
   ],
   "source": [
    "w2v_question_test = []\n",
    "for sentence in tqdm(X_test['question'].values):\n",
    "    vector = np.zeros(300)\n",
    "    for word in sentence.split():\n",
    "        if word in w2vmodel:\n",
    "            vector += w2vmodel[word]\n",
    "    w2v_question_test.append(vector)\n",
    "\n",
    "print(len(w2v_question_test))\n",
    "print(len(w2v_question_test[0]))\n",
    "print(type(w2v_question_test))"
   ]
  },
  {
   "cell_type": "code",
   "execution_count": 139,
   "metadata": {},
   "outputs": [
    {
     "name": "stderr",
     "output_type": "stream",
     "text": [
      "100%|██████████| 973/973 [00:01<00:00, 563.07it/s]"
     ]
    },
    {
     "name": "stdout",
     "output_type": "stream",
     "text": [
      "973\n",
      "300\n",
      "<class 'list'>\n"
     ]
    },
    {
     "name": "stderr",
     "output_type": "stream",
     "text": [
      "\n"
     ]
    }
   ],
   "source": [
    "w2v_question_cv = []\n",
    "for sentence in tqdm(X_cv['question'].values):\n",
    "    vector = np.zeros(300)\n",
    "    for word in sentence.split():\n",
    "        if word in w2vmodel:\n",
    "            vector += w2vmodel[word]\n",
    "    w2v_question_cv.append(vector)\n",
    "\n",
    "print(len(w2v_question_cv))\n",
    "print(len(w2v_question_cv[0]))\n",
    "print(type(w2v_question_cv))"
   ]
  },
  {
   "cell_type": "code",
   "execution_count": 140,
   "metadata": {},
   "outputs": [
    {
     "name": "stderr",
     "output_type": "stream",
     "text": [
      "100%|██████████| 3890/3890 [00:06<00:00, 563.87it/s]"
     ]
    },
    {
     "name": "stdout",
     "output_type": "stream",
     "text": [
      "3890\n",
      "300\n",
      "<class 'list'>\n"
     ]
    },
    {
     "name": "stderr",
     "output_type": "stream",
     "text": [
      "\n"
     ]
    }
   ],
   "source": [
    "w2v_answer_train = []\n",
    "for sentence in tqdm(X_train['answer'].values):\n",
    "    vector = np.zeros(300)\n",
    "    for word in sentence.split():\n",
    "        if word in w2vmodel:\n",
    "            vector += w2vmodel[word]\n",
    "    w2v_answer_train.append(vector)\n",
    "\n",
    "print(len(w2v_answer_train))\n",
    "print(len(w2v_answer_train[0]))\n",
    "print(type(w2v_answer_train))"
   ]
  },
  {
   "cell_type": "code",
   "execution_count": 141,
   "metadata": {},
   "outputs": [
    {
     "name": "stderr",
     "output_type": "stream",
     "text": [
      "100%|██████████| 1216/1216 [00:02<00:00, 508.84it/s]"
     ]
    },
    {
     "name": "stdout",
     "output_type": "stream",
     "text": [
      "1216\n",
      "300\n",
      "<class 'list'>\n"
     ]
    },
    {
     "name": "stderr",
     "output_type": "stream",
     "text": [
      "\n"
     ]
    }
   ],
   "source": [
    "w2v_answer_test = []\n",
    "for sentence in tqdm(X_test['answer'].values):\n",
    "    vector = np.zeros(300)\n",
    "    for word in sentence.split():\n",
    "        if word in w2vmodel:\n",
    "            vector += w2vmodel[word]\n",
    "    w2v_answer_test.append(vector)\n",
    "\n",
    "print(len(w2v_answer_test))\n",
    "print(len(w2v_answer_test[0]))\n",
    "print(type(w2v_answer_test))"
   ]
  },
  {
   "cell_type": "code",
   "execution_count": 142,
   "metadata": {},
   "outputs": [
    {
     "name": "stderr",
     "output_type": "stream",
     "text": [
      "100%|██████████| 973/973 [00:01<00:00, 540.94it/s]"
     ]
    },
    {
     "name": "stdout",
     "output_type": "stream",
     "text": [
      "973\n",
      "300\n",
      "<class 'list'>\n"
     ]
    },
    {
     "name": "stderr",
     "output_type": "stream",
     "text": [
      "\n"
     ]
    }
   ],
   "source": [
    "w2v_answer_cv = []\n",
    "for sentence in tqdm(X_cv['answer'].values):\n",
    "    vector = np.zeros(300)\n",
    "    for word in sentence.split():\n",
    "        if word in w2vmodel:\n",
    "            vector += w2vmodel[word]\n",
    "    w2v_answer_cv.append(vector)\n",
    "\n",
    "print(len(w2v_answer_cv))\n",
    "print(len(w2v_answer_cv[0]))\n",
    "print(type(w2v_answer_cv))"
   ]
  },
  {
   "cell_type": "code",
   "execution_count": 143,
   "metadata": {},
   "outputs": [],
   "source": [
    "X_tr=np.hstack((w2v_question_train,w2v_answer_train,np.array(train_host_encoded).reshape(-1,1),np.array(train_cat_encoded).reshape(-1,1)))\n",
    "\n",
    "X_te=np.hstack((w2v_question_test,w2v_answer_test,np.array(test_host_encoded).reshape(-1,1),np.array(test_cat_encoded).reshape(-1,1)))\n",
    "\n",
    "X_cv=np.hstack((w2v_question_cv,w2v_answer_cv,np.array(cv_host_encoded).reshape(-1,1),np.array(cv_cat_encoded).reshape(-1,1)))"
   ]
  },
  {
   "cell_type": "code",
   "execution_count": 144,
   "metadata": {},
   "outputs": [],
   "source": [
    "y_train=y_train.values\n",
    "y_test=y_test.values\n",
    "y_cv=y_cv.values"
   ]
  },
  {
   "cell_type": "code",
   "execution_count": 145,
   "metadata": {},
   "outputs": [
    {
     "name": "stdout",
     "output_type": "stream",
     "text": [
      "Epoch 1/20\n",
      "3890/3890 [==============================] - 5s 1ms/step - loss: 0.6455 - accuracy: 0.0137 - val_loss: 0.4365 - val_accuracy: 0.0000e+00\n",
      "Epoch 2/20\n",
      "3890/3890 [==============================] - 5s 1ms/step - loss: 0.4339 - accuracy: 4.2623e-04 - val_loss: 0.4263 - val_accuracy: 0.0000e+00\n",
      "Epoch 3/20\n",
      "3890/3890 [==============================] - 5s 1ms/step - loss: 0.4256 - accuracy: 3.9917e-04 - val_loss: 0.4255 - val_accuracy: 0.0000e+00\n",
      "Epoch 4/20\n",
      "3890/3890 [==============================] - 5s 1ms/step - loss: 0.4253 - accuracy: 5.2665e-04 - val_loss: 0.4253 - val_accuracy: 0.0000e+00\n",
      "Epoch 5/20\n",
      "3890/3890 [==============================] - 5s 1ms/step - loss: 0.4234 - accuracy: 9.5685e-04 - val_loss: 0.4253 - val_accuracy: 0.0000e+00\n",
      "Epoch 6/20\n",
      "3890/3890 [==============================] - 4s 1ms/step - loss: 0.4238 - accuracy: 0.0014 - val_loss: 0.4252 - val_accuracy: 0.0000e+00\n",
      "Epoch 7/20\n",
      "3890/3890 [==============================] - 5s 1ms/step - loss: 0.4261 - accuracy: 9.4627e-04 - val_loss: 0.4252 - val_accuracy: 0.0000e+00\n",
      "Epoch 8/20\n",
      "3890/3890 [==============================] - 8s 2ms/step - loss: 0.4261 - accuracy: 2.8105e-04 - val_loss: 0.4252 - val_accuracy: 0.0000e+00\n",
      "Epoch 9/20\n",
      "3890/3890 [==============================] - 6s 1ms/step - loss: 0.4240 - accuracy: 2.2700e-04 - val_loss: 0.4252 - val_accuracy: 0.0000e+00\n",
      "Epoch 10/20\n",
      "3890/3890 [==============================] - 6s 2ms/step - loss: 0.4281 - accuracy: 0.0020 - val_loss: 0.4252 - val_accuracy: 0.0000e+00\n",
      "Epoch 11/20\n",
      "3890/3890 [==============================] - 6s 1ms/step - loss: 0.4249 - accuracy: 0.0015 - val_loss: 0.4252 - val_accuracy: 0.0000e+00\n",
      "Epoch 12/20\n",
      "3890/3890 [==============================] - 6s 2ms/step - loss: 0.4254 - accuracy: 6.4969e-04 - val_loss: 0.4252 - val_accuracy: 0.0000e+00\n",
      "Epoch 13/20\n",
      "3890/3890 [==============================] - 7s 2ms/step - loss: 0.4247 - accuracy: 2.3968e-04 - val_loss: 0.4252 - val_accuracy: 0.0000e+00\n",
      "Epoch 14/20\n",
      "3890/3890 [==============================] - 7s 2ms/step - loss: 0.4244 - accuracy: 0.0014 - val_loss: 0.4252 - val_accuracy: 0.0000e+00\n",
      "Epoch 15/20\n",
      "3890/3890 [==============================] - 8s 2ms/step - loss: 0.4250 - accuracy: 8.9770e-04 - val_loss: 0.4252 - val_accuracy: 0.0000e+00\n",
      "Epoch 16/20\n",
      "3890/3890 [==============================] - 6s 2ms/step - loss: 0.4264 - accuracy: 9.1900e-04 - val_loss: 0.4252 - val_accuracy: 0.0000e+00\n",
      "Epoch 17/20\n",
      "3890/3890 [==============================] - 9s 2ms/step - loss: 0.4253 - accuracy: 7.3427e-04 - val_loss: 0.4251 - val_accuracy: 0.0000e+00\n",
      "Epoch 18/20\n",
      "3890/3890 [==============================] - 5s 1ms/step - loss: 0.4255 - accuracy: 6.7798e-04 - val_loss: 0.4252 - val_accuracy: 0.0000e+00\n",
      "Epoch 19/20\n",
      "3890/3890 [==============================] - 7s 2ms/step - loss: 0.4250 - accuracy: 4.1328e-04 - val_loss: 0.4252 - val_accuracy: 0.0000e+00\n",
      "Epoch 20/20\n",
      "3890/3890 [==============================] - 5s 1ms/step - loss: 0.4251 - accuracy: 3.4950e-04 - val_loss: 0.4252 - val_accuracy: 0.0000e+00\n"
     ]
    },
    {
     "data": {
      "text/plain": [
       "<tensorflow.python.keras.callbacks.History at 0x7fbd4b83b190>"
      ]
     },
     "execution_count": 145,
     "metadata": {},
     "output_type": "execute_result"
    }
   ],
   "source": [
    "model = Sequential()\n",
    "\n",
    "model.add(Dense(12, activation='relu', input_shape=(602,)))\n",
    "\n",
    "model.add(Dense(8, activation='relu'))\n",
    "\n",
    "model.add(Dense(30, activation='softmax'))\n",
    "\n",
    "model.compile(loss='binary_crossentropy',optimizer='adam',metrics=['accuracy'])\n",
    "\n",
    "model.fit(X_tr, y_train,epochs=20, batch_size=1, verbose=1,validation_data=(X_cv,y_cv))"
   ]
  },
  {
   "cell_type": "code",
   "execution_count": 146,
   "metadata": {},
   "outputs": [
    {
     "name": "stdout",
     "output_type": "stream",
     "text": [
      "38/38 [==============================] - 0s 2ms/step - loss: 0.4260 - accuracy: 0.0033\n"
     ]
    },
    {
     "data": {
      "text/plain": [
       "[0.42595189809799194, 0.003289473708719015]"
      ]
     },
     "execution_count": 146,
     "metadata": {},
     "output_type": "execute_result"
    }
   ],
   "source": [
    "model.evaluate(X_te,y_test)"
   ]
  },
  {
   "cell_type": "code",
   "execution_count": null,
   "metadata": {},
   "outputs": [],
   "source": []
  },
  {
   "cell_type": "code",
   "execution_count": null,
   "metadata": {},
   "outputs": [],
   "source": []
  },
  {
   "cell_type": "code",
   "execution_count": 147,
   "metadata": {},
   "outputs": [
    {
     "data": {
      "text/html": [
       "<div>\n",
       "<style scoped>\n",
       "    .dataframe tbody tr th:only-of-type {\n",
       "        vertical-align: middle;\n",
       "    }\n",
       "\n",
       "    .dataframe tbody tr th {\n",
       "        vertical-align: top;\n",
       "    }\n",
       "\n",
       "    .dataframe thead th {\n",
       "        text-align: right;\n",
       "    }\n",
       "</style>\n",
       "<table border=\"1\" class=\"dataframe\">\n",
       "  <thead>\n",
       "    <tr style=\"text-align: right;\">\n",
       "      <th></th>\n",
       "      <th>qa_id</th>\n",
       "      <th>question_title</th>\n",
       "      <th>question_body</th>\n",
       "      <th>question_user_name</th>\n",
       "      <th>question_user_page</th>\n",
       "      <th>answer</th>\n",
       "      <th>answer_user_name</th>\n",
       "      <th>answer_user_page</th>\n",
       "      <th>url</th>\n",
       "      <th>category</th>\n",
       "      <th>host</th>\n",
       "    </tr>\n",
       "  </thead>\n",
       "  <tbody>\n",
       "    <tr>\n",
       "      <th>0</th>\n",
       "      <td>39</td>\n",
       "      <td>Will leaving corpses lying around upset my pri...</td>\n",
       "      <td>I see questions/information online about how t...</td>\n",
       "      <td>Dylan</td>\n",
       "      <td>https://gaming.stackexchange.com/users/64471</td>\n",
       "      <td>There is no consequence for leaving corpses an...</td>\n",
       "      <td>Nelson868</td>\n",
       "      <td>https://gaming.stackexchange.com/users/97324</td>\n",
       "      <td>http://gaming.stackexchange.com/questions/1979...</td>\n",
       "      <td>CULTURE</td>\n",
       "      <td>gaming.stackexchange.com</td>\n",
       "    </tr>\n",
       "    <tr>\n",
       "      <th>1</th>\n",
       "      <td>46</td>\n",
       "      <td>Url link to feature image in the portfolio</td>\n",
       "      <td>I am new to Wordpress. i have issue with Featu...</td>\n",
       "      <td>Anu</td>\n",
       "      <td>https://wordpress.stackexchange.com/users/72927</td>\n",
       "      <td>I think it is possible with custom fields.\\n\\n...</td>\n",
       "      <td>Irina</td>\n",
       "      <td>https://wordpress.stackexchange.com/users/27233</td>\n",
       "      <td>http://wordpress.stackexchange.com/questions/1...</td>\n",
       "      <td>TECHNOLOGY</td>\n",
       "      <td>wordpress.stackexchange.com</td>\n",
       "    </tr>\n",
       "    <tr>\n",
       "      <th>2</th>\n",
       "      <td>70</td>\n",
       "      <td>Is accuracy, recoil or bullet spread affected ...</td>\n",
       "      <td>To experiment I started a bot game, toggled in...</td>\n",
       "      <td>Konsta</td>\n",
       "      <td>https://gaming.stackexchange.com/users/37545</td>\n",
       "      <td>You do not have armour in the screenshots. Thi...</td>\n",
       "      <td>Damon Smithies</td>\n",
       "      <td>https://gaming.stackexchange.com/users/70641</td>\n",
       "      <td>http://gaming.stackexchange.com/questions/2154...</td>\n",
       "      <td>CULTURE</td>\n",
       "      <td>gaming.stackexchange.com</td>\n",
       "    </tr>\n",
       "    <tr>\n",
       "      <th>3</th>\n",
       "      <td>132</td>\n",
       "      <td>Suddenly got an I/O error from my external HDD</td>\n",
       "      <td>I have used my Raspberry Pi as a torrent-serve...</td>\n",
       "      <td>robbannn</td>\n",
       "      <td>https://raspberrypi.stackexchange.com/users/17341</td>\n",
       "      <td>Your Western Digital hard drive is disappearin...</td>\n",
       "      <td>HeatfanJohn</td>\n",
       "      <td>https://raspberrypi.stackexchange.com/users/1311</td>\n",
       "      <td>http://raspberrypi.stackexchange.com/questions...</td>\n",
       "      <td>TECHNOLOGY</td>\n",
       "      <td>raspberrypi.stackexchange.com</td>\n",
       "    </tr>\n",
       "    <tr>\n",
       "      <th>4</th>\n",
       "      <td>200</td>\n",
       "      <td>Passenger Name - Flight Booking Passenger only...</td>\n",
       "      <td>I have bought Delhi-London return flights for ...</td>\n",
       "      <td>Amit</td>\n",
       "      <td>https://travel.stackexchange.com/users/29089</td>\n",
       "      <td>I called two persons who work for Saudia (tick...</td>\n",
       "      <td>Nean Der Thal</td>\n",
       "      <td>https://travel.stackexchange.com/users/10051</td>\n",
       "      <td>http://travel.stackexchange.com/questions/4704...</td>\n",
       "      <td>CULTURE</td>\n",
       "      <td>travel.stackexchange.com</td>\n",
       "    </tr>\n",
       "  </tbody>\n",
       "</table>\n",
       "</div>"
      ],
      "text/plain": [
       "   qa_id                                     question_title  \\\n",
       "0     39  Will leaving corpses lying around upset my pri...   \n",
       "1     46         Url link to feature image in the portfolio   \n",
       "2     70  Is accuracy, recoil or bullet spread affected ...   \n",
       "3    132     Suddenly got an I/O error from my external HDD   \n",
       "4    200  Passenger Name - Flight Booking Passenger only...   \n",
       "\n",
       "                                       question_body question_user_name  \\\n",
       "0  I see questions/information online about how t...              Dylan   \n",
       "1  I am new to Wordpress. i have issue with Featu...                Anu   \n",
       "2  To experiment I started a bot game, toggled in...             Konsta   \n",
       "3  I have used my Raspberry Pi as a torrent-serve...           robbannn   \n",
       "4  I have bought Delhi-London return flights for ...               Amit   \n",
       "\n",
       "                                  question_user_page  \\\n",
       "0       https://gaming.stackexchange.com/users/64471   \n",
       "1    https://wordpress.stackexchange.com/users/72927   \n",
       "2       https://gaming.stackexchange.com/users/37545   \n",
       "3  https://raspberrypi.stackexchange.com/users/17341   \n",
       "4       https://travel.stackexchange.com/users/29089   \n",
       "\n",
       "                                              answer answer_user_name  \\\n",
       "0  There is no consequence for leaving corpses an...        Nelson868   \n",
       "1  I think it is possible with custom fields.\\n\\n...            Irina   \n",
       "2  You do not have armour in the screenshots. Thi...   Damon Smithies   \n",
       "3  Your Western Digital hard drive is disappearin...      HeatfanJohn   \n",
       "4  I called two persons who work for Saudia (tick...    Nean Der Thal   \n",
       "\n",
       "                                   answer_user_page  \\\n",
       "0      https://gaming.stackexchange.com/users/97324   \n",
       "1   https://wordpress.stackexchange.com/users/27233   \n",
       "2      https://gaming.stackexchange.com/users/70641   \n",
       "3  https://raspberrypi.stackexchange.com/users/1311   \n",
       "4      https://travel.stackexchange.com/users/10051   \n",
       "\n",
       "                                                 url    category  \\\n",
       "0  http://gaming.stackexchange.com/questions/1979...     CULTURE   \n",
       "1  http://wordpress.stackexchange.com/questions/1...  TECHNOLOGY   \n",
       "2  http://gaming.stackexchange.com/questions/2154...     CULTURE   \n",
       "3  http://raspberrypi.stackexchange.com/questions...  TECHNOLOGY   \n",
       "4  http://travel.stackexchange.com/questions/4704...     CULTURE   \n",
       "\n",
       "                            host  \n",
       "0       gaming.stackexchange.com  \n",
       "1    wordpress.stackexchange.com  \n",
       "2       gaming.stackexchange.com  \n",
       "3  raspberrypi.stackexchange.com  \n",
       "4       travel.stackexchange.com  "
      ]
     },
     "execution_count": 147,
     "metadata": {},
     "output_type": "execute_result"
    }
   ],
   "source": [
    "test=pd.read_csv('./data/test.csv')\n",
    "test.head()"
   ]
  },
  {
   "cell_type": "code",
   "execution_count": 148,
   "metadata": {},
   "outputs": [],
   "source": [
    "target=['question_asker_intent_understanding','question_body_critical', 'question_conversational',\n",
    "       'question_expect_short_answer', 'question_fact_seeking','question_has_commonly_accepted_answer',\n",
    "       'question_interestingness_others', 'question_interestingness_self','question_multi_intent',\n",
    "       'question_not_really_a_question','question_opinion_seeking', 'question_type_choice',\n",
    "       'question_type_compare','question_type_consequence','question_type_definition', 'question_type_entity',\n",
    "       'question_type_instructions', 'question_type_procedure','question_type_reason_explanation',\n",
    "       'question_type_spelling','question_well_written',\n",
    "       'answer_helpful','answer_level_of_information', 'answer_plausible', 'answer_relevance',\n",
    "       'answer_satisfaction', 'answer_type_instructions','answer_type_procedure', 'answer_type_reason_explanation',\n",
    "       'answer_well_written']"
   ]
  },
  {
   "cell_type": "code",
   "execution_count": 149,
   "metadata": {},
   "outputs": [],
   "source": [
    "drop_cols=['question_user_name','question_user_page','answer_user_name','answer_user_page','url']\n",
    "test.drop(drop_cols,inplace=True,axis=1)\n",
    "test['question']=test['question_title']+test['question_body']\n",
    "test.drop(['question_title','question_body'],axis=1,inplace=True)"
   ]
  },
  {
   "cell_type": "code",
   "execution_count": 150,
   "metadata": {},
   "outputs": [],
   "source": [
    "import re\n",
    "questions=[]\n",
    "answers=[]\n",
    "for sent in test['question']:\n",
    "    sent = re.sub('[^A-Za-z0-9]+', ' ', sent)\n",
    "    questions.append(sent.strip())\n",
    "for sent in test['answer']:\n",
    "    sent = re.sub('[^A-Za-z0-9]+', ' ', sent)\n",
    "    answers.append(sent.strip())"
   ]
  },
  {
   "cell_type": "code",
   "execution_count": 151,
   "metadata": {},
   "outputs": [],
   "source": [
    "test['questions']=questions\n",
    "test['answers']=answers"
   ]
  },
  {
   "cell_type": "code",
   "execution_count": 152,
   "metadata": {},
   "outputs": [],
   "source": [
    "cols=['question','answer', 'category', 'host']\n",
    "\n",
    "test_host_encoded=[]\n",
    "for i in test['host']:\n",
    "    if i in host_list:\n",
    "        test_host_encoded.append(host_list.index(i))\n",
    "    else:\n",
    "        test_host_encoded.append(-1)\n",
    "\n",
    "test_cat_encoded=[]\n",
    "for i in test['category']:\n",
    "    if i in cat_list:\n",
    "        test_cat_encoded.append(cat_list.index(i))"
   ]
  },
  {
   "cell_type": "code",
   "execution_count": 153,
   "metadata": {},
   "outputs": [
    {
     "name": "stderr",
     "output_type": "stream",
     "text": [
      "100%|██████████| 476/476 [00:01<00:00, 450.29it/s]"
     ]
    },
    {
     "name": "stdout",
     "output_type": "stream",
     "text": [
      "476\n",
      "300\n",
      "<class 'list'>\n"
     ]
    },
    {
     "name": "stderr",
     "output_type": "stream",
     "text": [
      "\n"
     ]
    }
   ],
   "source": [
    "w2v_question_test = []\n",
    "for sentence in tqdm(test['question'].values):\n",
    "    vector = np.zeros(300)\n",
    "    for word in sentence.split():\n",
    "        if word in w2vmodel:\n",
    "            vector += w2vmodel[word]\n",
    "    w2v_question_test.append(vector)\n",
    "\n",
    "print(len(w2v_question_test))\n",
    "print(len(w2v_question_test[0]))\n",
    "print(type(w2v_question_test))"
   ]
  },
  {
   "cell_type": "code",
   "execution_count": 154,
   "metadata": {},
   "outputs": [
    {
     "name": "stderr",
     "output_type": "stream",
     "text": [
      "100%|██████████| 476/476 [00:01<00:00, 387.00it/s]"
     ]
    },
    {
     "name": "stdout",
     "output_type": "stream",
     "text": [
      "476\n",
      "300\n",
      "<class 'list'>\n"
     ]
    },
    {
     "name": "stderr",
     "output_type": "stream",
     "text": [
      "\n"
     ]
    }
   ],
   "source": [
    "w2v_answer_test = []\n",
    "for sentence in tqdm(test['answer'].values):\n",
    "    vector = np.zeros(300)\n",
    "    for word in sentence.split():\n",
    "        if word in w2vmodel:\n",
    "            vector += w2vmodel[word]\n",
    "    w2v_answer_test.append(vector)\n",
    "\n",
    "print(len(w2v_answer_test))\n",
    "print(len(w2v_answer_test[0]))\n",
    "print(type(w2v_answer_test))"
   ]
  },
  {
   "cell_type": "code",
   "execution_count": 155,
   "metadata": {},
   "outputs": [],
   "source": [
    "X_te=np.hstack((w2v_question_test,w2v_answer_test,np.array(test_host_encoded).reshape(-1,1),np.array(test_cat_encoded).reshape(-1,1)))"
   ]
  },
  {
   "cell_type": "code",
   "execution_count": 156,
   "metadata": {},
   "outputs": [
    {
     "data": {
      "text/plain": [
       "array([[0.07298533, 0.0128782 , 0.00048958, ..., 0.0012996 , 0.00836576,\n",
       "        0.08417019],\n",
       "       [0.07298533, 0.0128782 , 0.00048958, ..., 0.0012996 , 0.00836576,\n",
       "        0.08417019],\n",
       "       [0.07298533, 0.0128782 , 0.00048958, ..., 0.0012996 , 0.00836576,\n",
       "        0.08417019],\n",
       "       ...,\n",
       "       [0.07298533, 0.0128782 , 0.00048958, ..., 0.0012996 , 0.00836576,\n",
       "        0.08417019],\n",
       "       [0.07298533, 0.0128782 , 0.00048958, ..., 0.0012996 , 0.00836576,\n",
       "        0.08417019],\n",
       "       [0.07298533, 0.0128782 , 0.00048958, ..., 0.0012996 , 0.00836576,\n",
       "        0.08417019]], dtype=float32)"
      ]
     },
     "execution_count": 156,
     "metadata": {},
     "output_type": "execute_result"
    }
   ],
   "source": [
    "y_pred=model.predict(X_te)\n",
    "y_pred"
   ]
  },
  {
   "cell_type": "code",
   "execution_count": 157,
   "metadata": {},
   "outputs": [],
   "source": [
    "df = pd.DataFrame(y_pred,columns=target)\n",
    "df['qa_id']=test['qa_id']\n",
    "\n",
    "df=df[['qa_id','question_asker_intent_understanding', 'question_body_critical',\n",
    "       'question_conversational', 'question_expect_short_answer',\n",
    "       'question_fact_seeking', 'question_has_commonly_accepted_answer',\n",
    "       'question_interestingness_others', 'question_interestingness_self',\n",
    "       'question_multi_intent', 'question_not_really_a_question',\n",
    "       'question_opinion_seeking', 'question_type_choice',\n",
    "       'question_type_compare', 'question_type_consequence',\n",
    "       'question_type_definition', 'question_type_entity',\n",
    "       'question_type_instructions', 'question_type_procedure',\n",
    "       'question_type_reason_explanation', 'question_type_spelling',\n",
    "       'question_well_written', 'answer_helpful',\n",
    "       'answer_level_of_information', 'answer_plausible', 'answer_relevance',\n",
    "       'answer_satisfaction', 'answer_type_instructions',\n",
    "       'answer_type_procedure', 'answer_type_reason_explanation',\n",
    "       'answer_well_written']]"
   ]
  },
  {
   "cell_type": "code",
   "execution_count": 158,
   "metadata": {},
   "outputs": [
    {
     "data": {
      "text/html": [
       "<div>\n",
       "<style scoped>\n",
       "    .dataframe tbody tr th:only-of-type {\n",
       "        vertical-align: middle;\n",
       "    }\n",
       "\n",
       "    .dataframe tbody tr th {\n",
       "        vertical-align: top;\n",
       "    }\n",
       "\n",
       "    .dataframe thead th {\n",
       "        text-align: right;\n",
       "    }\n",
       "</style>\n",
       "<table border=\"1\" class=\"dataframe\">\n",
       "  <thead>\n",
       "    <tr style=\"text-align: right;\">\n",
       "      <th></th>\n",
       "      <th>qa_id</th>\n",
       "      <th>question_asker_intent_understanding</th>\n",
       "      <th>question_body_critical</th>\n",
       "      <th>question_conversational</th>\n",
       "      <th>question_expect_short_answer</th>\n",
       "      <th>question_fact_seeking</th>\n",
       "      <th>question_has_commonly_accepted_answer</th>\n",
       "      <th>question_interestingness_others</th>\n",
       "      <th>question_interestingness_self</th>\n",
       "      <th>question_multi_intent</th>\n",
       "      <th>...</th>\n",
       "      <th>question_well_written</th>\n",
       "      <th>answer_helpful</th>\n",
       "      <th>answer_level_of_information</th>\n",
       "      <th>answer_plausible</th>\n",
       "      <th>answer_relevance</th>\n",
       "      <th>answer_satisfaction</th>\n",
       "      <th>answer_type_instructions</th>\n",
       "      <th>answer_type_procedure</th>\n",
       "      <th>answer_type_reason_explanation</th>\n",
       "      <th>answer_well_written</th>\n",
       "    </tr>\n",
       "  </thead>\n",
       "  <tbody>\n",
       "    <tr>\n",
       "      <th>0</th>\n",
       "      <td>39</td>\n",
       "      <td>0.072985</td>\n",
       "      <td>0.012878</td>\n",
       "      <td>0.00049</td>\n",
       "      <td>0.019576</td>\n",
       "      <td>0.029299</td>\n",
       "      <td>0.032117</td>\n",
       "      <td>0.01207</td>\n",
       "      <td>0.008669</td>\n",
       "      <td>0.00255</td>\n",
       "      <td>...</td>\n",
       "      <td>0.034411</td>\n",
       "      <td>0.106505</td>\n",
       "      <td>0.015846</td>\n",
       "      <td>0.21203</td>\n",
       "      <td>0.262869</td>\n",
       "      <td>0.049896</td>\n",
       "      <td>0.007693</td>\n",
       "      <td>0.0013</td>\n",
       "      <td>0.008366</td>\n",
       "      <td>0.08417</td>\n",
       "    </tr>\n",
       "    <tr>\n",
       "      <th>1</th>\n",
       "      <td>46</td>\n",
       "      <td>0.072985</td>\n",
       "      <td>0.012878</td>\n",
       "      <td>0.00049</td>\n",
       "      <td>0.019576</td>\n",
       "      <td>0.029299</td>\n",
       "      <td>0.032117</td>\n",
       "      <td>0.01207</td>\n",
       "      <td>0.008669</td>\n",
       "      <td>0.00255</td>\n",
       "      <td>...</td>\n",
       "      <td>0.034411</td>\n",
       "      <td>0.106505</td>\n",
       "      <td>0.015846</td>\n",
       "      <td>0.21203</td>\n",
       "      <td>0.262869</td>\n",
       "      <td>0.049896</td>\n",
       "      <td>0.007693</td>\n",
       "      <td>0.0013</td>\n",
       "      <td>0.008366</td>\n",
       "      <td>0.08417</td>\n",
       "    </tr>\n",
       "    <tr>\n",
       "      <th>2</th>\n",
       "      <td>70</td>\n",
       "      <td>0.072985</td>\n",
       "      <td>0.012878</td>\n",
       "      <td>0.00049</td>\n",
       "      <td>0.019576</td>\n",
       "      <td>0.029299</td>\n",
       "      <td>0.032117</td>\n",
       "      <td>0.01207</td>\n",
       "      <td>0.008669</td>\n",
       "      <td>0.00255</td>\n",
       "      <td>...</td>\n",
       "      <td>0.034411</td>\n",
       "      <td>0.106505</td>\n",
       "      <td>0.015846</td>\n",
       "      <td>0.21203</td>\n",
       "      <td>0.262869</td>\n",
       "      <td>0.049896</td>\n",
       "      <td>0.007693</td>\n",
       "      <td>0.0013</td>\n",
       "      <td>0.008366</td>\n",
       "      <td>0.08417</td>\n",
       "    </tr>\n",
       "    <tr>\n",
       "      <th>3</th>\n",
       "      <td>132</td>\n",
       "      <td>0.072985</td>\n",
       "      <td>0.012878</td>\n",
       "      <td>0.00049</td>\n",
       "      <td>0.019576</td>\n",
       "      <td>0.029299</td>\n",
       "      <td>0.032117</td>\n",
       "      <td>0.01207</td>\n",
       "      <td>0.008669</td>\n",
       "      <td>0.00255</td>\n",
       "      <td>...</td>\n",
       "      <td>0.034411</td>\n",
       "      <td>0.106505</td>\n",
       "      <td>0.015846</td>\n",
       "      <td>0.21203</td>\n",
       "      <td>0.262869</td>\n",
       "      <td>0.049896</td>\n",
       "      <td>0.007693</td>\n",
       "      <td>0.0013</td>\n",
       "      <td>0.008366</td>\n",
       "      <td>0.08417</td>\n",
       "    </tr>\n",
       "    <tr>\n",
       "      <th>4</th>\n",
       "      <td>200</td>\n",
       "      <td>0.072985</td>\n",
       "      <td>0.012878</td>\n",
       "      <td>0.00049</td>\n",
       "      <td>0.019576</td>\n",
       "      <td>0.029299</td>\n",
       "      <td>0.032117</td>\n",
       "      <td>0.01207</td>\n",
       "      <td>0.008669</td>\n",
       "      <td>0.00255</td>\n",
       "      <td>...</td>\n",
       "      <td>0.034411</td>\n",
       "      <td>0.106505</td>\n",
       "      <td>0.015846</td>\n",
       "      <td>0.21203</td>\n",
       "      <td>0.262869</td>\n",
       "      <td>0.049896</td>\n",
       "      <td>0.007693</td>\n",
       "      <td>0.0013</td>\n",
       "      <td>0.008366</td>\n",
       "      <td>0.08417</td>\n",
       "    </tr>\n",
       "    <tr>\n",
       "      <th>...</th>\n",
       "      <td>...</td>\n",
       "      <td>...</td>\n",
       "      <td>...</td>\n",
       "      <td>...</td>\n",
       "      <td>...</td>\n",
       "      <td>...</td>\n",
       "      <td>...</td>\n",
       "      <td>...</td>\n",
       "      <td>...</td>\n",
       "      <td>...</td>\n",
       "      <td>...</td>\n",
       "      <td>...</td>\n",
       "      <td>...</td>\n",
       "      <td>...</td>\n",
       "      <td>...</td>\n",
       "      <td>...</td>\n",
       "      <td>...</td>\n",
       "      <td>...</td>\n",
       "      <td>...</td>\n",
       "      <td>...</td>\n",
       "      <td>...</td>\n",
       "    </tr>\n",
       "    <tr>\n",
       "      <th>471</th>\n",
       "      <td>9569</td>\n",
       "      <td>0.072985</td>\n",
       "      <td>0.012878</td>\n",
       "      <td>0.00049</td>\n",
       "      <td>0.019576</td>\n",
       "      <td>0.029299</td>\n",
       "      <td>0.032117</td>\n",
       "      <td>0.01207</td>\n",
       "      <td>0.008669</td>\n",
       "      <td>0.00255</td>\n",
       "      <td>...</td>\n",
       "      <td>0.034411</td>\n",
       "      <td>0.106505</td>\n",
       "      <td>0.015846</td>\n",
       "      <td>0.21203</td>\n",
       "      <td>0.262869</td>\n",
       "      <td>0.049896</td>\n",
       "      <td>0.007693</td>\n",
       "      <td>0.0013</td>\n",
       "      <td>0.008366</td>\n",
       "      <td>0.08417</td>\n",
       "    </tr>\n",
       "    <tr>\n",
       "      <th>472</th>\n",
       "      <td>9590</td>\n",
       "      <td>0.072985</td>\n",
       "      <td>0.012878</td>\n",
       "      <td>0.00049</td>\n",
       "      <td>0.019576</td>\n",
       "      <td>0.029299</td>\n",
       "      <td>0.032117</td>\n",
       "      <td>0.01207</td>\n",
       "      <td>0.008669</td>\n",
       "      <td>0.00255</td>\n",
       "      <td>...</td>\n",
       "      <td>0.034411</td>\n",
       "      <td>0.106505</td>\n",
       "      <td>0.015846</td>\n",
       "      <td>0.21203</td>\n",
       "      <td>0.262869</td>\n",
       "      <td>0.049896</td>\n",
       "      <td>0.007693</td>\n",
       "      <td>0.0013</td>\n",
       "      <td>0.008366</td>\n",
       "      <td>0.08417</td>\n",
       "    </tr>\n",
       "    <tr>\n",
       "      <th>473</th>\n",
       "      <td>9597</td>\n",
       "      <td>0.072985</td>\n",
       "      <td>0.012878</td>\n",
       "      <td>0.00049</td>\n",
       "      <td>0.019576</td>\n",
       "      <td>0.029299</td>\n",
       "      <td>0.032117</td>\n",
       "      <td>0.01207</td>\n",
       "      <td>0.008669</td>\n",
       "      <td>0.00255</td>\n",
       "      <td>...</td>\n",
       "      <td>0.034411</td>\n",
       "      <td>0.106505</td>\n",
       "      <td>0.015846</td>\n",
       "      <td>0.21203</td>\n",
       "      <td>0.262869</td>\n",
       "      <td>0.049896</td>\n",
       "      <td>0.007693</td>\n",
       "      <td>0.0013</td>\n",
       "      <td>0.008366</td>\n",
       "      <td>0.08417</td>\n",
       "    </tr>\n",
       "    <tr>\n",
       "      <th>474</th>\n",
       "      <td>9623</td>\n",
       "      <td>0.072985</td>\n",
       "      <td>0.012878</td>\n",
       "      <td>0.00049</td>\n",
       "      <td>0.019576</td>\n",
       "      <td>0.029299</td>\n",
       "      <td>0.032117</td>\n",
       "      <td>0.01207</td>\n",
       "      <td>0.008669</td>\n",
       "      <td>0.00255</td>\n",
       "      <td>...</td>\n",
       "      <td>0.034411</td>\n",
       "      <td>0.106505</td>\n",
       "      <td>0.015846</td>\n",
       "      <td>0.21203</td>\n",
       "      <td>0.262869</td>\n",
       "      <td>0.049896</td>\n",
       "      <td>0.007693</td>\n",
       "      <td>0.0013</td>\n",
       "      <td>0.008366</td>\n",
       "      <td>0.08417</td>\n",
       "    </tr>\n",
       "    <tr>\n",
       "      <th>475</th>\n",
       "      <td>9640</td>\n",
       "      <td>0.072985</td>\n",
       "      <td>0.012878</td>\n",
       "      <td>0.00049</td>\n",
       "      <td>0.019576</td>\n",
       "      <td>0.029299</td>\n",
       "      <td>0.032117</td>\n",
       "      <td>0.01207</td>\n",
       "      <td>0.008669</td>\n",
       "      <td>0.00255</td>\n",
       "      <td>...</td>\n",
       "      <td>0.034411</td>\n",
       "      <td>0.106505</td>\n",
       "      <td>0.015846</td>\n",
       "      <td>0.21203</td>\n",
       "      <td>0.262869</td>\n",
       "      <td>0.049896</td>\n",
       "      <td>0.007693</td>\n",
       "      <td>0.0013</td>\n",
       "      <td>0.008366</td>\n",
       "      <td>0.08417</td>\n",
       "    </tr>\n",
       "  </tbody>\n",
       "</table>\n",
       "<p>476 rows × 31 columns</p>\n",
       "</div>"
      ],
      "text/plain": [
       "     qa_id  question_asker_intent_understanding  question_body_critical  \\\n",
       "0       39                             0.072985                0.012878   \n",
       "1       46                             0.072985                0.012878   \n",
       "2       70                             0.072985                0.012878   \n",
       "3      132                             0.072985                0.012878   \n",
       "4      200                             0.072985                0.012878   \n",
       "..     ...                                  ...                     ...   \n",
       "471   9569                             0.072985                0.012878   \n",
       "472   9590                             0.072985                0.012878   \n",
       "473   9597                             0.072985                0.012878   \n",
       "474   9623                             0.072985                0.012878   \n",
       "475   9640                             0.072985                0.012878   \n",
       "\n",
       "     question_conversational  question_expect_short_answer  \\\n",
       "0                    0.00049                      0.019576   \n",
       "1                    0.00049                      0.019576   \n",
       "2                    0.00049                      0.019576   \n",
       "3                    0.00049                      0.019576   \n",
       "4                    0.00049                      0.019576   \n",
       "..                       ...                           ...   \n",
       "471                  0.00049                      0.019576   \n",
       "472                  0.00049                      0.019576   \n",
       "473                  0.00049                      0.019576   \n",
       "474                  0.00049                      0.019576   \n",
       "475                  0.00049                      0.019576   \n",
       "\n",
       "     question_fact_seeking  question_has_commonly_accepted_answer  \\\n",
       "0                 0.029299                               0.032117   \n",
       "1                 0.029299                               0.032117   \n",
       "2                 0.029299                               0.032117   \n",
       "3                 0.029299                               0.032117   \n",
       "4                 0.029299                               0.032117   \n",
       "..                     ...                                    ...   \n",
       "471               0.029299                               0.032117   \n",
       "472               0.029299                               0.032117   \n",
       "473               0.029299                               0.032117   \n",
       "474               0.029299                               0.032117   \n",
       "475               0.029299                               0.032117   \n",
       "\n",
       "     question_interestingness_others  question_interestingness_self  \\\n",
       "0                            0.01207                       0.008669   \n",
       "1                            0.01207                       0.008669   \n",
       "2                            0.01207                       0.008669   \n",
       "3                            0.01207                       0.008669   \n",
       "4                            0.01207                       0.008669   \n",
       "..                               ...                            ...   \n",
       "471                          0.01207                       0.008669   \n",
       "472                          0.01207                       0.008669   \n",
       "473                          0.01207                       0.008669   \n",
       "474                          0.01207                       0.008669   \n",
       "475                          0.01207                       0.008669   \n",
       "\n",
       "     question_multi_intent  ...  question_well_written  answer_helpful  \\\n",
       "0                  0.00255  ...               0.034411        0.106505   \n",
       "1                  0.00255  ...               0.034411        0.106505   \n",
       "2                  0.00255  ...               0.034411        0.106505   \n",
       "3                  0.00255  ...               0.034411        0.106505   \n",
       "4                  0.00255  ...               0.034411        0.106505   \n",
       "..                     ...  ...                    ...             ...   \n",
       "471                0.00255  ...               0.034411        0.106505   \n",
       "472                0.00255  ...               0.034411        0.106505   \n",
       "473                0.00255  ...               0.034411        0.106505   \n",
       "474                0.00255  ...               0.034411        0.106505   \n",
       "475                0.00255  ...               0.034411        0.106505   \n",
       "\n",
       "     answer_level_of_information  answer_plausible  answer_relevance  \\\n",
       "0                       0.015846           0.21203          0.262869   \n",
       "1                       0.015846           0.21203          0.262869   \n",
       "2                       0.015846           0.21203          0.262869   \n",
       "3                       0.015846           0.21203          0.262869   \n",
       "4                       0.015846           0.21203          0.262869   \n",
       "..                           ...               ...               ...   \n",
       "471                     0.015846           0.21203          0.262869   \n",
       "472                     0.015846           0.21203          0.262869   \n",
       "473                     0.015846           0.21203          0.262869   \n",
       "474                     0.015846           0.21203          0.262869   \n",
       "475                     0.015846           0.21203          0.262869   \n",
       "\n",
       "     answer_satisfaction  answer_type_instructions  answer_type_procedure  \\\n",
       "0               0.049896                  0.007693                 0.0013   \n",
       "1               0.049896                  0.007693                 0.0013   \n",
       "2               0.049896                  0.007693                 0.0013   \n",
       "3               0.049896                  0.007693                 0.0013   \n",
       "4               0.049896                  0.007693                 0.0013   \n",
       "..                   ...                       ...                    ...   \n",
       "471             0.049896                  0.007693                 0.0013   \n",
       "472             0.049896                  0.007693                 0.0013   \n",
       "473             0.049896                  0.007693                 0.0013   \n",
       "474             0.049896                  0.007693                 0.0013   \n",
       "475             0.049896                  0.007693                 0.0013   \n",
       "\n",
       "     answer_type_reason_explanation  answer_well_written  \n",
       "0                          0.008366              0.08417  \n",
       "1                          0.008366              0.08417  \n",
       "2                          0.008366              0.08417  \n",
       "3                          0.008366              0.08417  \n",
       "4                          0.008366              0.08417  \n",
       "..                              ...                  ...  \n",
       "471                        0.008366              0.08417  \n",
       "472                        0.008366              0.08417  \n",
       "473                        0.008366              0.08417  \n",
       "474                        0.008366              0.08417  \n",
       "475                        0.008366              0.08417  \n",
       "\n",
       "[476 rows x 31 columns]"
      ]
     },
     "execution_count": 158,
     "metadata": {},
     "output_type": "execute_result"
    }
   ],
   "source": [
    "df"
   ]
  },
  {
   "cell_type": "code",
   "execution_count": null,
   "metadata": {},
   "outputs": [],
   "source": []
  }
 ],
 "metadata": {
  "kernelspec": {
   "display_name": "Python 3",
   "language": "python",
   "name": "python3"
  },
  "language_info": {
   "codemirror_mode": {
    "name": "ipython",
    "version": 3
   },
   "file_extension": ".py",
   "mimetype": "text/x-python",
   "name": "python",
   "nbconvert_exporter": "python",
   "pygments_lexer": "ipython3",
   "version": "3.8.5"
  }
 },
 "nbformat": 4,
 "nbformat_minor": 4
}
